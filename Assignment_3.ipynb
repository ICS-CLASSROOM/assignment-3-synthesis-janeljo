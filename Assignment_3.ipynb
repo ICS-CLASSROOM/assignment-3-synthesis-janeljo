{
 "cells": [
  {
   "cell_type": "markdown",
   "metadata": {
    "application/vnd.databricks.v1+cell": {
     "cellMetadata": {},
     "inputWidgets": {},
     "nuid": "1933c2cc-ad65-46c5-8625-149bea622c15",
     "showTitle": false,
     "tableResultSettingsMap": {},
     "title": ""
    }
   },
   "source": [
    "## Assignment 3\n",
    "Group Members: Janel Joson (jmjoson) and Yu Fang Ma (yfm)"
   ]
  },
  {
   "cell_type": "markdown",
   "metadata": {
    "application/vnd.databricks.v1+cell": {
     "cellMetadata": {
      "byteLimit": 2048000,
      "rowLimit": 10000
     },
     "inputWidgets": {},
     "nuid": "370d752b-514a-4994-b961-74544e259665",
     "showTitle": false,
     "tableResultSettingsMap": {},
     "title": ""
    }
   },
   "source": [
    "## Final Assignment Overview: Working with Patient Records and Encounter Notes\n",
    "\n",
    "In this final assignment, we’ll focus on patient records related to COVID-19 encounters. Our task is to analyze, process, and transform the data while applying the concepts we’ve covered throughout this course. Here's a detailed breakdown of the assignment:\n",
    "\n",
    "What Are Encounter Notes?\n",
    "An encounter note is a record that captures details about a patient’s visit with a doctor. It includes both structured and semi-structured information that is crucial for understanding the context of the visit. Here’s what an encounter note typically looks like:\n",
    "\n",
    "```\n",
    "AMBULATORY ENCOUNTER NOTE\n",
    "Date of Service: March 2, 2020 15:45-16:30\n",
    "\n",
    "DEMOGRAPHICS:\n",
    "Name: Jeffrey Greenfelder\n",
    "DOB: 1/16/2005\n",
    "Gender: Male\n",
    "Address: 428 Wiza Glen Unit 91, Springfield, Massachusetts 01104\n",
    "Insurance: Guardian\n",
    "MRN: 055ae6fc-7e18-4a39-8058-64082ca6d515\n",
    "\n",
    "PERTINENT MEDICAL HISTORY:\n",
    "- Obesity \n",
    "\n",
    "Recent Visit: Well child visit (2/23/2020)\n",
    "Immunizations: Influenza vaccine (2/23/2020)\n",
    "\n",
    "Recent Baseline (2/23/2020):\n",
    "Height: 155.0 cm\n",
    "Weight: 81.2 kg\n",
    "BMI: 33.8 kg/m² (99.1th percentile)\n",
    "BP: 123/80 mmHg\n",
    "HR: 92/min\n",
    "RR: 13/min\n",
    "\n",
    "SUBJECTIVE:\n",
    "Adolescent patient presents with multiple symptoms including:\n",
    "- Cough\n",
    "- Sore throat\n",
    "- Severe fatigue\n",
    "- Muscle pain\n",
    "- Joint pain\n",
    "- Fever\n",
    "Never smoker. Symptoms began recently.\n",
    "\n",
    "OBJECTIVE:\n",
    "Vitals:\n",
    "Temperature: 39.3°C (102.7°F)\n",
    "Heart Rate: 131.1/min\n",
    "Blood Pressure: 120/73 mmHg\n",
    "Respiratory Rate: 27.6/min\n",
    "O2 Saturation: 75.8% on room air\n",
    "Weight: 81.2 kg\n",
    "\n",
    "Laboratory/Testing:\n",
    "Comprehensive Respiratory Panel:\n",
    "- Influenza A RNA: Negative\n",
    "- Influenza B RNA: Negative\n",
    "- RSV RNA: Negative\n",
    "- Parainfluenza virus 1,2,3 RNA: Negative\n",
    "- Rhinovirus RNA: Negative\n",
    "- Human metapneumovirus RNA: Negative\n",
    "- Adenovirus DNA: Negative\n",
    "- SARS-CoV-2 RNA: Positive\n",
    "\n",
    "ASSESSMENT:\n",
    "1. Suspected COVID-19 with severe symptoms\n",
    "2. Severe hypoxemia requiring immediate intervention\n",
    "3. Tachycardia (HR 131)\n",
    "4. High-grade fever\n",
    "5. Risk factors:\n",
    "   - Obesity (BMI 33.8)\n",
    "   - Adolescent age\n",
    "\n",
    "PLAN:\n",
    "1. Face mask provided for immediate oxygen support\n",
    "2. Infectious disease care plan initiated\n",
    "3. Close monitoring required due to:\n",
    "   - Severe hypoxemia\n",
    "   - Tachycardia\n",
    "   - Age and obesity risk factors\n",
    "4. Parent/patient education on:\n",
    "   - Home isolation protocols\n",
    "   - Warning signs requiring emergency care\n",
    "   - Return precautions\n",
    "5. Follow-up plan:\n",
    "   - Daily monitoring during acute phase\n",
    "   - Virtual check-ins as needed\n",
    "\n",
    "Encounter Duration: 45 minutes\n",
    "Encounter Type: Ambulatory\n",
    "Provider: ID# e2c226c2-3e1e-3d0b-b997-ce9544c10528\n",
    "Facility: 5103c940-0c08-392f-95cd-446e0cea042a\n",
    "```\n",
    "\n",
    "\n",
    "The enocuter contains\n",
    "\n",
    "* General encounter information: \n",
    "\n",
    "  * When the encounter took place: Date and time of the visit.\n",
    "  * Demographics: Patient’s age, gender, and unique medical record identifier.\n",
    "  * Encounter details: The reason for the visit, diagnosis, and any associated costs.\n",
    "\n",
    "\n",
    "* Semi-Structured Notes:\n",
    "\n",
    "These notes mirror how doctors organize their thoughts and observations during an encounter. They generally follow a SOAP format:\n",
    "\n",
    "* Subjective: The patient’s subjective description of their symptoms, feelings, and medical concerns.\n",
    "* Objective: The doctor’s objective findings, including test results, measurements, or physical examination outcomes.\n",
    "* Assessment: The doctor’s evaluation or diagnosis based on subjective and objective information.\n",
    "* Plan: The proposed treatment plan, including medications, follow-ups, or other interventions.\n",
    "\n",
    "While some encounter notes might include additional details, the majority conform to this semi-structured format, making them ideal for analysis and transformation.\n",
    "\n",
    "* Goals for the Assignment\n",
    "\n",
    "1. Transforming Encounter Notes:\n",
    "\n",
    "Using an LLM to convert semi-structured encounter notes into a JSON format that organizes the information into structured fields. The JSON will include details such as demographics, encounter specifics, and the SOAP components of the note. Subsequently, you will need to transform the JSON data into a Parquet file, which is not only suitable for analysis in Spark but also ideal for storage later.\n",
    "Here we will use the ML classificaition to assing the objective and assessment semi-structured fields into standardized, structured fields. The medical taxonomy for this task will be the one provided by the CDC, which defines standard codes for diagnoses, symptoms, procedures, and treatments. This step ensures the structured data aligns with domain-wide medical standards, making it interoperable and ready for deeper analysis.\n",
    "\n",
    "The JSON format should capture the hierachies described in the structure below. \n",
    "\n",
    "\n",
    "\n",
    "\n",
    "2. Basic Analytics and Visualizations:\n",
    "Using Apache Spark, perform comprehensive data analysis on the encounter data and create visualizations that reveal meaningful patterns. Your analysis must include:\n",
    "- COVID-19 Case Demographics: Case breakdown by age ranges ([0-5], [6-10], [11-17], [18-30], [31-50], [51-70], [71+])\n",
    "- Cumulative case count of Covid between the earliest case observed in the dataset and last case observed\n",
    "- Symptoms for all COVID-19 patients versus patients that admitted into the intensive care unit due to COVID.\n",
    "- Rank medications by frequency of prescription\n",
    "- Analyze medication patterns across different demographic groups (e.g., top 3 per age group)\n",
    "- Identify and plot co-morbidity information from the patient records (e.g., hypertension, obesity, prediabetes, etc.) provided in the dataset. \n",
    "- An independent group analysis: You need to develop and execute THREE original analyses that provide meaningful insights about COVID-19 patterns in this dataset. For each analysis:\n",
    "  - Clearly state your analytical question/hypothesis\n",
    "  - Justify why this analysis is valuable\n",
    "  - Show your Spark code and methodology\n",
    "  - Present results with appropriate visualizations\n"
   ]
  },
  {
   "cell_type": "markdown",
   "metadata": {
    "application/vnd.databricks.v1+cell": {
     "cellMetadata": {
      "byteLimit": 2048000,
      "rowLimit": 10000
     },
     "inputWidgets": {},
     "nuid": "6c222952-5ba3-4ff7-92b0-65c169efc114",
     "showTitle": false,
     "tableResultSettingsMap": {},
     "title": ""
    }
   },
   "source": [
    "EncounterType:\n",
    "    code\n",
    "    description\n",
    "\n",
    "Encounter:\n",
    "    -- id --\n",
    "    date\n",
    "    time\n",
    "    -- type: EncounterType -- \n",
    "    provider_id\n",
    "    facility_id\n",
    "\n",
    "Address:\n",
    "    city\n",
    "    state\n",
    "\n",
    "Demographics:\n",
    "    -- id -- \n",
    "    name\n",
    "    date_of_birth\n",
    "    age\n",
    "    gender\n",
    "    address: Address\n",
    "    insurance\n",
    "\n",
    "Condition:\n",
    "    code\n",
    "    description\n",
    "\n",
    "Medication:\n",
    "    code\n",
    "    description\n",
    "\n",
    "Immunization:\n",
    "    code\n",
    "    description\n",
    "    date: date\n",
    "\n",
    "VitalMeasurement:\n",
    "    code\n",
    "    value: float\n",
    "    unit\n",
    "\n",
    "BloodPressure:\n",
    "    systolic: VitalMeasurement\n",
    "    diastolic: VitalMeasurement\n",
    "\n",
    "CurrentVitals:\n",
    "    temperature: VitalMeasurement\n",
    "    heart_rate: VitalMeasurement\n",
    "    blood_pressure: BloodPressure\n",
    "    respiratory_rate: VitalMeasurement\n",
    "    oxygen_saturation: VitalMeasurement\n",
    "    weight: VitalMeasurement\n",
    "\n",
    "BaselineVitals:\n",
    "    date: date\n",
    "    height: VitalMeasurement\n",
    "    weight: VitalMeasurement\n",
    "    bmi: VitalMeasurement\n",
    "    bmi_percentile: VitalMeasurement\n",
    "\n",
    "Vitals:\n",
    "    current: CurrentVitals\n",
    "    baseline: BaselineVitals\n",
    "\n",
    "RespiratoryTest:\n",
    "    code\n",
    "    result\n",
    "\n",
    "RespiratoryPanel:\n",
    "    influenza_a: RespiratoryTest\n",
    "    influenza_b: RespiratoryTest\n",
    "    rsv: RespiratoryTest\n",
    "    parainfluenza_1: RespiratoryTest\n",
    "    parainfluenza_2: RespiratoryTest\n",
    "    parainfluenza_3: RespiratoryTest\n",
    "    rhinovirus: RespiratoryTest\n",
    "    metapneumovirus: RespiratoryTest\n",
    "    adenovirus: RespiratoryTest\n",
    "\n",
    "Covid19Test:\n",
    "    code\n",
    "    description\n",
    "    result\n",
    "\n",
    "Laboratory:\n",
    "    covid19: Covid19Test\n",
    "    respiratory_panel: RespiratoryPanel\n",
    "\n",
    "Procedure:\n",
    "    code\n",
    "    description\n",
    "    date: date\n",
    "    reasonCode\n",
    "    reasonDescription\n",
    "\n",
    "CarePlan:\n",
    "    -- id -- \n",
    "    code\n",
    "    description\n",
    "    start: date\n",
    "    stop: date\n",
    "    reasonCode\n",
    "    reasonDescription\n",
    "\n",
    "PatientRecord:\n",
    "    encounter: Encounter\n",
    "    demographics: Demographics\n",
    "    conditions: List[Condition]\n",
    "    medications: List[Medication]\n",
    "    immunizations: List[Immunization]\n",
    "    vitals: Vitals\n",
    "    laboratory: Laboratory\n",
    "    procedures: List[Procedure]\n"
   ]
  },
  {
   "cell_type": "code",
   "execution_count": 0,
   "metadata": {
    "application/vnd.databricks.v1+cell": {
     "cellMetadata": {
      "byteLimit": 2048000,
      "rowLimit": 10000
     },
     "inputWidgets": {},
     "nuid": "6b7c79c1-bcba-47d0-aa0c-b166742942c7",
     "showTitle": false,
     "tableResultSettingsMap": {},
     "title": ""
    }
   },
   "outputs": [
    {
     "output_type": "stream",
     "name": "stdout",
     "output_type": "stream",
     "text": [
      "Python interpreter will be restarted.\nRequirement already satisfied: pydantic in /local_disk0/.ephemeral_nfs/envs/pythonEnv-24731f5c-d6a5-40c0-8bea-3be0414c0dae/lib/python3.9/site-packages (2.10.3)\nRequirement already satisfied: annotated-types>=0.6.0 in /local_disk0/.ephemeral_nfs/envs/pythonEnv-24731f5c-d6a5-40c0-8bea-3be0414c0dae/lib/python3.9/site-packages (from pydantic) (0.7.0)\nRequirement already satisfied: pydantic-core==2.27.1 in /local_disk0/.ephemeral_nfs/envs/pythonEnv-24731f5c-d6a5-40c0-8bea-3be0414c0dae/lib/python3.9/site-packages (from pydantic) (2.27.1)\nRequirement already satisfied: typing-extensions>=4.12.2 in /local_disk0/.ephemeral_nfs/envs/pythonEnv-24731f5c-d6a5-40c0-8bea-3be0414c0dae/lib/python3.9/site-packages (from pydantic) (4.12.2)\nPython interpreter will be restarted.\n"
     ]
    }
   ],
   "source": [
    "pip install pydantic\n"
   ]
  },
  {
   "cell_type": "code",
   "execution_count": 0,
   "metadata": {
    "application/vnd.databricks.v1+cell": {
     "cellMetadata": {
      "byteLimit": 2048000,
      "rowLimit": 10000
     },
     "inputWidgets": {},
     "nuid": "25d9c086-9366-4946-a510-521c02b9d1d8",
     "showTitle": false,
     "tableResultSettingsMap": {},
     "title": ""
    }
   },
   "outputs": [],
   "source": [
    "# Using provided schema\n",
    "from typing import List, Optional\n",
    "from pydantic import BaseModel\n",
    "from datetime import date\n",
    "\n",
    "class EncounterType(BaseModel):\n",
    "    code: str\n",
    "    description: str\n",
    "\n",
    "class Encounter(BaseModel):\n",
    "    date: str\n",
    "    time: str\n",
    "    provider_id: str\n",
    "    facility_id: str\n",
    "\n",
    "class Address(BaseModel):\n",
    "    city: str\n",
    "    state: str\n",
    "\n",
    "class Demographics(BaseModel):\n",
    "    name: str\n",
    "    date_of_birth: str\n",
    "    age: int\n",
    "    gender: str\n",
    "    address: Address\n",
    "    insurance: str\n",
    "\n",
    "class Condition(BaseModel):\n",
    "    code: str\n",
    "    description: str\n",
    "\n",
    "\n",
    "class Medication(BaseModel):\n",
    "    code: str\n",
    "    description: str\n",
    "\n",
    "class Immunization(BaseModel):\n",
    "    code: str\n",
    "    description: str\n",
    "    date: str\n",
    "\n",
    "class VitalMeasurement(BaseModel):\n",
    "    code: str\n",
    "    value: float\n",
    "    unit: str\n",
    "\n",
    "class BloodPressure(BaseModel):\n",
    "    systolic: Optional[VitalMeasurement]\n",
    "    diastolic: Optional[VitalMeasurement]\n",
    "\n",
    "class CurrentVitals(BaseModel):\n",
    "    temperature: Optional[VitalMeasurement] = None\n",
    "    heart_rate: Optional[VitalMeasurement] = None\n",
    "    blood_pressure: Optional[BloodPressure] = None\n",
    "    respiratory_rate: Optional[VitalMeasurement] = None\n",
    "    oxygen_saturation: Optional[VitalMeasurement] = None\n",
    "    weight: Optional[VitalMeasurement] = None\n",
    "\n",
    "class BaselineVitals(BaseModel):\n",
    "    date: str\n",
    "    height: Optional[VitalMeasurement] = None\n",
    "    weight: Optional[VitalMeasurement] = None\n",
    "    bmi: Optional[VitalMeasurement] = None\n",
    "    bmi_percentile: Optional[VitalMeasurement] = None\n",
    "\n",
    "class Vitals(BaseModel):\n",
    "    current: Optional[CurrentVitals]\n",
    "    baseline: Optional[BaselineVitals]\n",
    "\n",
    "class RespiratoryTest(BaseModel):\n",
    "    code: str\n",
    "    result: str\n",
    "\n",
    "class RespiratoryPanel(BaseModel):\n",
    "    influenza_a: Optional[RespiratoryTest] = None\n",
    "    influenza_b: Optional[RespiratoryTest] = None\n",
    "    rsv: Optional[RespiratoryTest] = None\n",
    "    parainfluenza_1: Optional[RespiratoryTest] = None\n",
    "    parainfluenza_2: Optional[RespiratoryTest] = None\n",
    "    parainfluenza_3: Optional[RespiratoryTest] = None\n",
    "    rhinovirus: Optional[RespiratoryTest] = None\n",
    "    metapneumovirus: Optional[RespiratoryTest] = None\n",
    "    adenovirus: Optional[RespiratoryTest] = None\n",
    "\n",
    "class Covid19Test(BaseModel):\n",
    "    code: str\n",
    "    description: str\n",
    "    result: str\n",
    "\n",
    "class Laboratory(BaseModel):\n",
    "    covid19: Optional[Covid19Test] = None\n",
    "    respiratory_panel: Optional[RespiratoryPanel] = None\n",
    "\n",
    "class Procedure(BaseModel):\n",
    "    code: str\n",
    "    description: str\n",
    "    date: str\n",
    "    reasonCode: str\n",
    "    reasonDescription: str\n",
    "\n",
    "class CarePlan(BaseModel):\n",
    "    code: str\n",
    "    description: str\n",
    "    start: str\n",
    "    stop: str\n",
    "    reasonCode: str\n",
    "    reasonDescription: str\n",
    "\n",
    "class PatientRecord(BaseModel):\n",
    "    demographics: Demographics\n",
    "    encounter: Optional[Encounter] = None\n",
    "    conditions: Optional[List[Condition]] = None\n",
    "    medications: Optional[List[Medication]] = None\n",
    "    immunizations: Optional[List[Immunization]] = None\n",
    "    vitals: Optional[Vitals] = None\n",
    "    laboratory: Optional[Laboratory] = None\n",
    "    procedures: Optional[List[Procedure]] = None"
   ]
  },
  {
   "cell_type": "markdown",
   "metadata": {
    "application/vnd.databricks.v1+cell": {
     "cellMetadata": {
      "byteLimit": 2048000,
      "rowLimit": 10000
     },
     "inputWidgets": {},
     "nuid": "ced1bf83-4b03-4dd9-b24b-1d3b5b651f3a",
     "showTitle": false,
     "tableResultSettingsMap": {},
     "title": ""
    }
   },
   "source": [
    "## Part 1: Transforming Encounter Notes\n",
    "### Transform JSON data (parsed_notes.jsonl.gz) into a Parquet file to use for analysis in Spark"
   ]
  },
  {
   "cell_type": "code",
   "execution_count": 0,
   "metadata": {
    "application/vnd.databricks.v1+cell": {
     "cellMetadata": {
      "byteLimit": 2048000,
      "rowLimit": 10000
     },
     "inputWidgets": {},
     "nuid": "4f014f53-fc76-4828-899b-2e06670b245e",
     "showTitle": false,
     "tableResultSettingsMap": {},
     "title": ""
    }
   },
   "outputs": [],
   "source": [
    "from pyspark.sql import SparkSession, Window\n",
    "\n",
    "from pyspark.sql.types import (\n",
    "    StructType, StructField, \n",
    "    StringType, IntegerType, FloatType, \n",
    "    ArrayType, MapType\n",
    ")\n",
    "\n",
    "from pyspark.sql.functions import (\n",
    "  col, count, desc, explode, array_contains, \n",
    "  dense_rank, when, struct, first, max,\n",
    "  collect_list, size, array_intersect)\n",
    "\n",
    "import pyspark.sql.functions as F\n",
    "\n",
    "import matplotlib.pyplot as plt\n"
   ]
  },
  {
   "cell_type": "code",
   "execution_count": 0,
   "metadata": {
    "application/vnd.databricks.v1+cell": {
     "cellMetadata": {
      "byteLimit": 2048000,
      "rowLimit": 10000
     },
     "inputWidgets": {},
     "nuid": "8cc54690-971e-4e3d-82a8-68f867f64aad",
     "showTitle": false,
     "tableResultSettingsMap": {},
     "title": ""
    }
   },
   "outputs": [],
   "source": [
    "def convert_pydantic_to_spark_schema(model_class):\n",
    "    \"\"\"\n",
    "    Dynamically convert Pydantic model to Spark StructType\n",
    "    \n",
    "    Args:\n",
    "        model_class (Type[BaseModel]): Pydantic BaseModel class to convert\n",
    "    \n",
    "    Returns:\n",
    "        StructType: Corresponding Spark SQL schema\n",
    "    \"\"\"\n",
    "    def _get_field_type(field_type, is_optional=False):\n",
    "        \"\"\"\n",
    "        Convert Python type annotations to Spark SQL types\n",
    "        \"\"\"\n",
    "        origin = getattr(field_type, '__origin__', None)\n",
    "        \n",
    "        # Handle Optional types\n",
    "        if origin is type(None):\n",
    "            return None\n",
    "        \n",
    "        # List handling\n",
    "        if origin is list:\n",
    "            # Get the type of list elements\n",
    "            element_type = field_type.__args__[0]\n",
    "            return ArrayType(_get_field_type(element_type))\n",
    "        \n",
    "        # Optional handling\n",
    "        if origin is type(None) or (hasattr(field_type, '__origin__') and \n",
    "                                    field_type.__origin__ is type(origin)):\n",
    "            return None\n",
    "        \n",
    "        # Nested Pydantic model handling\n",
    "        if hasattr(field_type, '__bases__') and \\\n",
    "           len(field_type.__bases__) > 0 and \\\n",
    "           field_type.__bases__[0].__name__ == 'BaseModel':\n",
    "            return _convert_model_to_struct(field_type)\n",
    "        \n",
    "        # Primitive type mapping\n",
    "        type_map = {\n",
    "            str: StringType(),\n",
    "            int: IntegerType(),\n",
    "            float: FloatType(),\n",
    "            date: StringType(),  # Convert date to string in Spark\n",
    "        }\n",
    "        \n",
    "        # Direct type match\n",
    "        if field_type in type_map:\n",
    "            return type_map[field_type]\n",
    "        \n",
    "        # Default to string for unknown types\n",
    "        return StringType()\n",
    "\n",
    "    def _convert_model_to_struct(model):\n",
    "        \"\"\"\n",
    "        Convert a Pydantic model to a Spark StructType\n",
    "        \"\"\"\n",
    "        fields = []\n",
    "        for field_name, field_type in model.__annotations__.items():\n",
    "            # Check if the field is Optional\n",
    "            is_optional = 'typing.Optional' in str(field_type)\n",
    "            \n",
    "            # Get the actual type (remove Optional wrapper)\n",
    "            if is_optional and hasattr(field_type, '__args__'):\n",
    "                field_type = field_type.__args__[0]\n",
    "            \n",
    "            # Convert type\n",
    "            spark_type = _get_field_type(field_type)\n",
    "            \n",
    "            # Skip None types\n",
    "            if spark_type is None:\n",
    "                continue\n",
    "            \n",
    "            fields.append(StructField(field_name, spark_type, nullable=is_optional))\n",
    "        \n",
    "        return StructType(fields)\n",
    "\n",
    "    return _convert_model_to_struct(model_class)"
   ]
  },
  {
   "cell_type": "code",
   "execution_count": 0,
   "metadata": {
    "application/vnd.databricks.v1+cell": {
     "cellMetadata": {
      "byteLimit": 2048000,
      "rowLimit": 10000
     },
     "inputWidgets": {},
     "nuid": "98211b6d-7ab0-488c-a5e5-fd22b7f53da6",
     "showTitle": false,
     "tableResultSettingsMap": {},
     "title": ""
    }
   },
   "outputs": [],
   "source": [
    "def get_patient_record_schema():\n",
    "    return convert_pydantic_to_spark_schema(PatientRecord)"
   ]
  },
  {
   "cell_type": "code",
   "execution_count": 0,
   "metadata": {
    "application/vnd.databricks.v1+cell": {
     "cellMetadata": {
      "byteLimit": 2048000,
      "rowLimit": 10000
     },
     "inputWidgets": {},
     "nuid": "fb0a4d64-cc60-4f26-809b-3e9a0499c175",
     "showTitle": false,
     "tableResultSettingsMap": {},
     "title": ""
    }
   },
   "outputs": [],
   "source": [
    "def convert_json_to_parquet(input_path, output_path):\n",
    "    \"\"\"\n",
    "    Convert JSON to Parquet using dynamically generated schema\n",
    "    \n",
    "    Args:\n",
    "        input_path (str): Path to input JSON file\n",
    "        output_path (str): Path to output Parquet file\n",
    "    \"\"\"\n",
    "    # Create Spark session\n",
    "    spark = SparkSession.builder \\\n",
    "        .appName(\"PatientRecord JSON to Parquet\") \\\n",
    "        .getOrCreate()\n",
    "    \n",
    "    # Get the dynamically generated schema\n",
    "    patient_record_schema = get_patient_record_schema()\n",
    "    \n",
    "    # Read JSON with explicit schema\n",
    "    df = spark.read.schema(patient_record_schema) \\\n",
    "        .json(input_path)\n",
    "    \n",
    "    # Write to Parquet\n",
    "    df.write.mode(\"overwrite\").parquet(output_path)\n",
    "    \n",
    "    # Optional: Show schema and first few rows for verification\n",
    "    df.printSchema()\n",
    "    df.show(5)\n",
    "    \n",
    "    return df"
   ]
  },
  {
   "cell_type": "code",
   "execution_count": 0,
   "metadata": {
    "application/vnd.databricks.v1+cell": {
     "cellMetadata": {
      "byteLimit": 2048000,
      "rowLimit": 10000
     },
     "inputWidgets": {},
     "nuid": "85341e14-f086-46aa-adc7-59826706418b",
     "showTitle": false,
     "tableResultSettingsMap": {},
     "title": ""
    }
   },
   "outputs": [
    {
     "output_type": "stream",
     "name": "stdout",
     "output_type": "stream",
     "text": [
      "root\n |-- demographics: struct (nullable = true)\n |    |-- name: string (nullable = true)\n |    |-- date_of_birth: string (nullable = true)\n |    |-- age: integer (nullable = true)\n |    |-- gender: string (nullable = true)\n |    |-- address: struct (nullable = true)\n |    |    |-- city: string (nullable = true)\n |    |    |-- state: string (nullable = true)\n |    |-- insurance: string (nullable = true)\n |-- encounter: struct (nullable = true)\n |    |-- date: string (nullable = true)\n |    |-- time: string (nullable = true)\n |    |-- provider_id: string (nullable = true)\n |    |-- facility_id: string (nullable = true)\n |-- conditions: array (nullable = true)\n |    |-- element: struct (containsNull = true)\n |    |    |-- code: string (nullable = true)\n |    |    |-- description: string (nullable = true)\n |-- medications: array (nullable = true)\n |    |-- element: struct (containsNull = true)\n |    |    |-- code: string (nullable = true)\n |    |    |-- description: string (nullable = true)\n |-- immunizations: array (nullable = true)\n |    |-- element: struct (containsNull = true)\n |    |    |-- code: string (nullable = true)\n |    |    |-- description: string (nullable = true)\n |    |    |-- date: string (nullable = true)\n |-- vitals: struct (nullable = true)\n |    |-- current: struct (nullable = true)\n |    |    |-- temperature: struct (nullable = true)\n |    |    |    |-- code: string (nullable = true)\n |    |    |    |-- value: float (nullable = true)\n |    |    |    |-- unit: string (nullable = true)\n |    |    |-- heart_rate: struct (nullable = true)\n |    |    |    |-- code: string (nullable = true)\n |    |    |    |-- value: float (nullable = true)\n |    |    |    |-- unit: string (nullable = true)\n |    |    |-- blood_pressure: struct (nullable = true)\n |    |    |    |-- systolic: struct (nullable = true)\n |    |    |    |    |-- code: string (nullable = true)\n |    |    |    |    |-- value: float (nullable = true)\n |    |    |    |    |-- unit: string (nullable = true)\n |    |    |    |-- diastolic: struct (nullable = true)\n |    |    |    |    |-- code: string (nullable = true)\n |    |    |    |    |-- value: float (nullable = true)\n |    |    |    |    |-- unit: string (nullable = true)\n |    |    |-- respiratory_rate: struct (nullable = true)\n |    |    |    |-- code: string (nullable = true)\n |    |    |    |-- value: float (nullable = true)\n |    |    |    |-- unit: string (nullable = true)\n |    |    |-- oxygen_saturation: struct (nullable = true)\n |    |    |    |-- code: string (nullable = true)\n |    |    |    |-- value: float (nullable = true)\n |    |    |    |-- unit: string (nullable = true)\n |    |    |-- weight: struct (nullable = true)\n |    |    |    |-- code: string (nullable = true)\n |    |    |    |-- value: float (nullable = true)\n |    |    |    |-- unit: string (nullable = true)\n |    |-- baseline: struct (nullable = true)\n |    |    |-- date: string (nullable = true)\n |    |    |-- height: struct (nullable = true)\n |    |    |    |-- code: string (nullable = true)\n |    |    |    |-- value: float (nullable = true)\n |    |    |    |-- unit: string (nullable = true)\n |    |    |-- weight: struct (nullable = true)\n |    |    |    |-- code: string (nullable = true)\n |    |    |    |-- value: float (nullable = true)\n |    |    |    |-- unit: string (nullable = true)\n |    |    |-- bmi: struct (nullable = true)\n |    |    |    |-- code: string (nullable = true)\n |    |    |    |-- value: float (nullable = true)\n |    |    |    |-- unit: string (nullable = true)\n |    |    |-- bmi_percentile: struct (nullable = true)\n |    |    |    |-- code: string (nullable = true)\n |    |    |    |-- value: float (nullable = true)\n |    |    |    |-- unit: string (nullable = true)\n |-- laboratory: struct (nullable = true)\n |    |-- covid19: struct (nullable = true)\n |    |    |-- code: string (nullable = true)\n |    |    |-- description: string (nullable = true)\n |    |    |-- result: string (nullable = true)\n |    |-- respiratory_panel: struct (nullable = true)\n |    |    |-- influenza_a: struct (nullable = true)\n |    |    |    |-- code: string (nullable = true)\n |    |    |    |-- result: string (nullable = true)\n |    |    |-- influenza_b: struct (nullable = true)\n |    |    |    |-- code: string (nullable = true)\n |    |    |    |-- result: string (nullable = true)\n |    |    |-- rsv: struct (nullable = true)\n |    |    |    |-- code: string (nullable = true)\n |    |    |    |-- result: string (nullable = true)\n |    |    |-- parainfluenza_1: struct (nullable = true)\n |    |    |    |-- code: string (nullable = true)\n |    |    |    |-- result: string (nullable = true)\n |    |    |-- parainfluenza_2: struct (nullable = true)\n |    |    |    |-- code: string (nullable = true)\n |    |    |    |-- result: string (nullable = true)\n |    |    |-- parainfluenza_3: struct (nullable = true)\n |    |    |    |-- code: string (nullable = true)\n |    |    |    |-- result: string (nullable = true)\n |    |    |-- rhinovirus: struct (nullable = true)\n |    |    |    |-- code: string (nullable = true)\n |    |    |    |-- result: string (nullable = true)\n |    |    |-- metapneumovirus: struct (nullable = true)\n |    |    |    |-- code: string (nullable = true)\n |    |    |    |-- result: string (nullable = true)\n |    |    |-- adenovirus: struct (nullable = true)\n |    |    |    |-- code: string (nullable = true)\n |    |    |    |-- result: string (nullable = true)\n |-- procedures: array (nullable = true)\n |    |-- element: struct (containsNull = true)\n |    |    |-- code: string (nullable = true)\n |    |    |-- description: string (nullable = true)\n |    |    |-- date: string (nullable = true)\n |    |    |-- reasonCode: string (nullable = true)\n |    |    |-- reasonDescription: string (nullable = true)\n\n+--------------------+--------------------+--------------------+--------------------+--------------------+--------------------+--------------------+--------------------+\n|        demographics|           encounter|          conditions|         medications|       immunizations|              vitals|          laboratory|          procedures|\n+--------------------+--------------------+--------------------+--------------------+--------------------+--------------------+--------------------+--------------------+\n|{Elmer Schinner, ...|{2020-03-18, 21:0...|[{49727002, Cough...|[{854235, 0.4 ML ...|                  []|{{{8310-5, 38.1, ...|{{94531-1, SARS-C...|[{261352009, Face...|\n|{Albert Kshleri, ...|{2020-05-22, 20:5...|[{49727002, Cough...|                  []|[{140, Influenza ...|{{{8310-5, 39.2, ...|{{94531-1, SARS-C...|[{261352009, Face...|\n|{Eliseo Lind, 195...|{2020-03-28, 23:3...|[{49727002, Cough...|[{854235, 0.4 ML ...|                  []|{{{8310-5, 41.1, ...|{{94531-1, SARS-C...|[{261352009, Face...|\n|{Kyl Mertz, 1986-...|{2020-05-23, 15:4...|[{195662009, Acut...|[{854235, 0.4 ML ...|                  []|{{{8310-5, 36.6, ...|{{94531-1, SARS-C...|[{301807007, Remo...|\n|{Monte Ward, 1919...|{2020-03-14, 08:0...|[{49727002, Cough...|                  []|                  []|{{{8310-5, 38.7, ...|{{94531-1, SARS-C...|[{261352009, Face...|\n+--------------------+--------------------+--------------------+--------------------+--------------------+--------------------+--------------------+--------------------+\nonly showing top 5 rows\n\n"
     ]
    }
   ],
   "source": [
    "df = convert_json_to_parquet(\"dbfs:/FileStore/parsed_notes_jsonl.gz\", \"dbfs:/FileStore/notes.parquet\")"
   ]
  },
  {
   "cell_type": "markdown",
   "metadata": {
    "application/vnd.databricks.v1+cell": {
     "cellMetadata": {
      "byteLimit": 2048000,
      "rowLimit": 10000
     },
     "inputWidgets": {},
     "nuid": "c451c010-91fd-448e-b2b7-4b081a0f9297",
     "showTitle": false,
     "tableResultSettingsMap": {},
     "title": ""
    }
   },
   "source": [
    "## Part 2: Basic Analytics and Visualizations\n",
    "\n",
    "- Rank medications by frequency of prescription\n",
    "- Analyze medication patterns across different demographic groups (e.g., top 3 per age group)\n",
    "- Identify and plot co-morbidity information from the patient records (e.g., hypertension, obesity, prediabetes, etc.) provided in the dataset."
   ]
  },
  {
   "cell_type": "code",
   "execution_count": 0,
   "metadata": {
    "application/vnd.databricks.v1+cell": {
     "cellMetadata": {
      "byteLimit": 2048000,
      "rowLimit": 10000
     },
     "inputWidgets": {},
     "nuid": "07720352-c3ad-4470-9b76-9afb1a7a8494",
     "showTitle": false,
     "tableResultSettingsMap": {},
     "title": ""
    }
   },
   "outputs": [
    {
     "output_type": "stream",
     "name": "stdout",
     "output_type": "stream",
     "text": [
      "Top 20 Prescribed Medications:\n+-------+----------------------------------------------------------------------------------------------------+------------------+\n|code   |description                                                                                         |prescription_count|\n+-------+----------------------------------------------------------------------------------------------------+------------------+\n|198440 |Acetaminophen 500 MG Oral Tablet                                                                    |302               |\n|854235 |0.4 ML Enoxaparin sodium 100 MG/ML Prefilled Syringe                                                |291               |\n|205923 |1 ML Epoetin Alfa 4000 UNT/ML Injection [Epogen]                                                    |214               |\n|854252 |1 ML Enoxaparin sodium 150 MG/ML Prefilled Syringe                                                  |174               |\n|2123111|NDA020503 200 ACTUAT Albuterol 0.09 MG/ACTUAT Metered Dose Inhaler                                  |165               |\n|106892 |insulin human  isophane 70 UNT/ML / Regular Insulin  Human 30 UNT/ML Injectable Suspension [Humulin]|88                |\n|314231 |Simvastatin 10 MG Oral Tablet                                                                       |83                |\n|310798 |Hydrochlorothiazide 25 MG Oral Tablet                                                               |82                |\n|860975 |24 HR Metformin hydrochloride 500 MG Extended Release Oral Tablet                                   |69                |\n|999967 |amLODIPine 5 MG / Hydrochlorothiazide 12.5 MG / Olmesartan medoxomil 20 MG Oral Tablet              |52                |\n|746030 |Atenolol 50 MG / Chlorthalidone 25 MG Oral Tablet                                                   |50                |\n|895994 |120 ACTUAT Fluticasone propionate 0.044 MG/ACTUAT Metered Dose Inhaler                              |49                |\n|313782 |Acetaminophen 325 MG Oral Tablet                                                                    |46                |\n|855332 |Warfarin Sodium 5 MG Oral Tablet                                                                    |36                |\n|897718 |Verapamil Hydrochloride 40 MG                                                                       |36                |\n|197604 |Digoxin 0.125 MG Oral Tablet                                                                        |36                |\n|309362 |Clopidogrel 75 MG Oral Tablet                                                                       |35                |\n|197361 |Amlodipine 5 MG Oral Tablet                                                                         |31                |\n|312961 |Simvastatin 20 MG Oral Tablet                                                                       |31                |\n|705129 |Nitroglycerin 0.4 MG/ACTUAT Mucosal Spray                                                           |31                |\n+-------+----------------------------------------------------------------------------------------------------+------------------+\nonly showing top 20 rows\n\n"
     ]
    }
   ],
   "source": [
    "# Rank medications by frequency of prescription\n",
    "\n",
    "def analyze_medication_frequency(df):\n",
    "    # Explode medications to create a row per medication\n",
    "    medication_freq = df.filter(col(\"medications\").isNotNull()) \\\n",
    "        .select(explode(col(\"medications\")).alias(\"medication\"))\n",
    "    \n",
    "    # Count and rank medications\n",
    "    medication_ranking = medication_freq \\\n",
    "        .groupBy(\"medication.code\", \"medication.description\") \\\n",
    "        .agg(count(\"*\").alias(\"prescription_count\")) \\\n",
    "        .orderBy(desc(\"prescription_count\"))\n",
    "    \n",
    "    # Show top 20 medications\n",
    "    print(\"Top 20 Prescribed Medications:\")\n",
    "    medication_ranking.show(20, truncate=False)\n",
    "\n",
    "results = analyze_medication_frequency(df)\n"
   ]
  },
  {
   "cell_type": "code",
   "execution_count": 0,
   "metadata": {
    "application/vnd.databricks.v1+cell": {
     "cellMetadata": {
      "byteLimit": 2048000,
      "rowLimit": 10000
     },
     "inputWidgets": {},
     "nuid": "1b415d2a-8430-40bd-bf87-5fd3f4481607",
     "showTitle": false,
     "tableResultSettingsMap": {},
     "title": ""
    }
   },
   "outputs": [
    {
     "output_type": "stream",
     "name": "stdout",
     "output_type": "stream",
     "text": [
      "\nMedication Prescription by Gender:\n+----------------------------------------------------------------------------------------------------+------+------------------+\n|description                                                                                         |gender|prescription_count|\n+----------------------------------------------------------------------------------------------------+------+------------------+\n|Acetaminophen 500 MG Oral Tablet                                                                    |F     |168               |\n|0.4 ML Enoxaparin sodium 100 MG/ML Prefilled Syringe                                                |F     |163               |\n|Acetaminophen 500 MG Oral Tablet                                                                    |M     |134               |\n|0.4 ML Enoxaparin sodium 100 MG/ML Prefilled Syringe                                                |M     |128               |\n|1 ML Epoetin Alfa 4000 UNT/ML Injection [Epogen]                                                    |F     |120               |\n|NDA020503 200 ACTUAT Albuterol 0.09 MG/ACTUAT Metered Dose Inhaler                                  |F     |94                |\n|1 ML Epoetin Alfa 4000 UNT/ML Injection [Epogen]                                                    |M     |94                |\n|1 ML Enoxaparin sodium 150 MG/ML Prefilled Syringe                                                  |F     |91                |\n|1 ML Enoxaparin sodium 150 MG/ML Prefilled Syringe                                                  |M     |83                |\n|NDA020503 200 ACTUAT Albuterol 0.09 MG/ACTUAT Metered Dose Inhaler                                  |M     |71                |\n|insulin human  isophane 70 UNT/ML / Regular Insulin  Human 30 UNT/ML Injectable Suspension [Humulin]|M     |62                |\n|Simvastatin 10 MG Oral Tablet                                                                       |F     |47                |\n|24 HR Metformin hydrochloride 500 MG Extended Release Oral Tablet                                   |M     |46                |\n|Hydrochlorothiazide 25 MG Oral Tablet                                                               |F     |45                |\n|Hydrochlorothiazide 25 MG Oral Tablet                                                               |M     |37                |\n|Simvastatin 10 MG Oral Tablet                                                                       |M     |36                |\n|amLODIPine 5 MG / Hydrochlorothiazide 12.5 MG / Olmesartan medoxomil 20 MG Oral Tablet              |M     |33                |\n|120 ACTUAT Fluticasone propionate 0.044 MG/ACTUAT Metered Dose Inhaler                              |F     |32                |\n|Warfarin Sodium 5 MG Oral Tablet                                                                    |M     |27                |\n|Verapamil Hydrochloride 40 MG                                                                       |M     |27                |\n+----------------------------------------------------------------------------------------------------+------+------------------+\nonly showing top 20 rows\n\n\nMedication Prescription by Age Range:\n+----------------------------------------------------------------------------------------------------+---------+------------------+\n|description                                                                                         |age_range|prescription_count|\n+----------------------------------------------------------------------------------------------------+---------+------------------+\n|1 ML Epoetin Alfa 4000 UNT/ML Injection [Epogen]                                                    |51+      |214               |\n|Acetaminophen 500 MG Oral Tablet                                                                    |51+      |190               |\n|0.4 ML Enoxaparin sodium 100 MG/ML Prefilled Syringe                                                |51+      |181               |\n|1 ML Enoxaparin sodium 150 MG/ML Prefilled Syringe                                                  |51+      |114               |\n|Acetaminophen 500 MG Oral Tablet                                                                    |18-50    |98                |\n|NDA020503 200 ACTUAT Albuterol 0.09 MG/ACTUAT Metered Dose Inhaler                                  |51+      |97                |\n|0.4 ML Enoxaparin sodium 100 MG/ML Prefilled Syringe                                                |18-50    |96                |\n|insulin human  isophane 70 UNT/ML / Regular Insulin  Human 30 UNT/ML Injectable Suspension [Humulin]|51+      |83                |\n|Simvastatin 10 MG Oral Tablet                                                                       |51+      |81                |\n|24 HR Metformin hydrochloride 500 MG Extended Release Oral Tablet                                   |51+      |65                |\n|Hydrochlorothiazide 25 MG Oral Tablet                                                               |51+      |58                |\n|1 ML Enoxaparin sodium 150 MG/ML Prefilled Syringe                                                  |18-50    |50                |\n|NDA020503 200 ACTUAT Albuterol 0.09 MG/ACTUAT Metered Dose Inhaler                                  |18-50    |46                |\n|Warfarin Sodium 5 MG Oral Tablet                                                                    |51+      |36                |\n|Verapamil Hydrochloride 40 MG                                                                       |51+      |36                |\n|Digoxin 0.125 MG Oral Tablet                                                                        |51+      |36                |\n|Atenolol 50 MG / Chlorthalidone 25 MG Oral Tablet                                                   |51+      |35                |\n|Clopidogrel 75 MG Oral Tablet                                                                       |51+      |31                |\n|amLODIPine 5 MG / Hydrochlorothiazide 12.5 MG / Olmesartan medoxomil 20 MG Oral Tablet              |51+      |31                |\n|Amlodipine 5 MG Oral Tablet                                                                         |51+      |27                |\n+----------------------------------------------------------------------------------------------------+---------+------------------+\nonly showing top 20 rows\n\n"
     ]
    }
   ],
   "source": [
    "# Additional advanced analysis\n",
    "def advanced_medication_analysis(df):\n",
    "    # Medications by demographic\n",
    "    medication_by_demographics = df \\\n",
    "        .filter(col(\"medications\").isNotNull()) \\\n",
    "        .select(\n",
    "            explode(col(\"medications\")).alias(\"medication\"),\n",
    "            col(\"demographics.gender\"),\n",
    "            col(\"demographics.age\")\n",
    "        )\n",
    "    \n",
    "    # Medication frequency by gender\n",
    "    gender_medication_freq = medication_by_demographics \\\n",
    "        .groupBy(\"medication.description\", \"gender\") \\\n",
    "        .agg(count(\"*\").alias(\"prescription_count\")) \\\n",
    "        .orderBy(desc(\"prescription_count\"))\n",
    "    \n",
    "    print(\"\\nMedication Prescription by Gender:\")\n",
    "    gender_medication_freq.show(20, truncate=False)\n",
    "    \n",
    "    # Medication frequency by age range\n",
    "    def categorize_age_range(age):\n",
    "        return (\n",
    "            when((age >= 0) & (age <= 17), \"0-17\")\n",
    "            .when((age >= 18) & (age <= 50), \"18-50\")\n",
    "            .when(age >= 51, \"51+\")\n",
    "            .otherwise(\"Unknown\")\n",
    "        )\n",
    "    \n",
    "    age_medication_freq = medication_by_demographics \\\n",
    "        .withColumn(\"age_range\", categorize_age_range(col(\"age\"))) \\\n",
    "        .groupBy(\"medication.description\", \"age_range\") \\\n",
    "        .agg(count(\"*\").alias(\"prescription_count\")) \\\n",
    "        .orderBy(desc(\"prescription_count\"))\n",
    "    \n",
    "    print(\"\\nMedication Prescription by Age Range:\")\n",
    "    age_medication_freq.show(20, truncate=False)\n",
    "    \n",
    "    return {\n",
    "        \"gender_medication_freq\": gender_medication_freq.collect(),\n",
    "        \"age_medication_freq\": age_medication_freq.collect()\n",
    "    }\n",
    "\n",
    "additional_analysis = advanced_medication_analysis(df)"
   ]
  },
  {
   "cell_type": "code",
   "execution_count": 0,
   "metadata": {
    "application/vnd.databricks.v1+cell": {
     "cellMetadata": {
      "byteLimit": 2048000,
      "rowLimit": 10000
     },
     "inputWidgets": {},
     "nuid": "69fa0cf0-636f-4f60-9d74-4dd03485f386",
     "showTitle": false,
     "tableResultSettingsMap": {},
     "title": ""
    }
   },
   "outputs": [],
   "source": [
    "# Identify and plot co-morbidity information from the patient records (e.g., hypertension, obesity, prediabetes, etc.) provided in the dataset.\n",
    "\n",
    "# Prepare conditions data\n",
    "conditions_df = df.filter(col(\"conditions\").isNotNull())"
   ]
  },
  {
   "cell_type": "code",
   "execution_count": 0,
   "metadata": {
    "application/vnd.databricks.v1+cell": {
     "cellMetadata": {
      "byteLimit": 2048000,
      "rowLimit": 10000
     },
     "inputWidgets": {},
     "nuid": "aa87aeed-1f03-4115-a0a1-b02e25150942",
     "showTitle": false,
     "tableResultSettingsMap": {},
     "title": ""
    }
   },
   "outputs": [],
   "source": [
    "# Group and count co-morbidities\n",
    "comorbidity_counts = conditions_df.groupBy(\"conditions\") \\\n",
    "    .agg(count(\"*\").alias(\"count\")) \\\n",
    "    .orderBy(desc(\"count\"))\n",
    "\n",
    "# Collect results\n",
    "comorbidity_results = comorbidity_counts.collect()"
   ]
  },
  {
   "cell_type": "code",
   "execution_count": 0,
   "metadata": {
    "application/vnd.databricks.v1+cell": {
     "cellMetadata": {
      "byteLimit": 2048000,
      "rowLimit": 10000
     },
     "inputWidgets": {},
     "nuid": "b6b7d8b7-4c14-41e4-b523-4e5303e097a9",
     "showTitle": false,
     "tableResultSettingsMap": {},
     "title": ""
    }
   },
   "outputs": [
    {
     "output_type": "stream",
     "name": "stdout",
     "output_type": "stream",
     "text": [
      "+---------+------------------------------------+-----------+\n|code     |description                         |total_count|\n+---------+------------------------------------+-----------+\n|840544004|Suspected COVID-19                  |1486       |\n|840539006|COVID-19                            |1435       |\n|386661006|Fever (finding)                     |1322       |\n|49727002 |Cough (finding)                     |1028       |\n|36955009 |Loss of taste (finding)             |747        |\n|84229001 |Fatigue (finding)                   |560        |\n|248595008|Sputum finding (finding)            |476        |\n|233604007|Pneumonia (disorder)                |302        |\n|389087006|Hypoxemia (disorder)                |302        |\n|271825005|Respiratory distress (finding)      |302        |\n|267036007|Dyspnea (finding)                   |270        |\n|56018004 |Wheezing (finding)                  |270        |\n|68962001 |Muscle pain (finding)               |228        |\n|57676002 |Joint pain (finding)                |228        |\n|267102003|Sore throat symptom (finding)       |200        |\n|25064002 |Headache (finding)                  |182        |\n|43724002 |Chill (finding)                     |170        |\n|65710008 |Acute respiratory failure (disorder)|124        |\n|770349000|Sepsis caused by virus (disorder)   |93         |\n|706870000|Acute pulmonary embolism (disorder) |91         |\n+---------+------------------------------------+-----------+\nonly showing top 20 rows\n\n"
     ]
    }
   ],
   "source": [
    "# Explode the conditions list to flatten the DataFrame\n",
    "flattened_df = comorbidity_counts.withColumn(\"condition\", explode(col(\"conditions\"))).select(\n",
    "    col(\"condition.code\").alias(\"code\"),\n",
    "    col(\"condition.description\").alias(\"description\"),\n",
    "    col(\"count\")\n",
    ")\n",
    "\n",
    "# Group by condition code and description, and sum the counts\n",
    "result_df = flattened_df.groupBy(\"code\", \"description\").sum(\"count\").withColumnRenamed(\"sum(count)\", \"total_count\")\n",
    "\n",
    "# Sort the results in descending order of total_count\n",
    "sorted_df = result_df.orderBy(col(\"total_count\").desc())\n",
    "\n",
    "# Display the sorted results\n",
    "sorted_df.show(truncate=False)"
   ]
  }
 ],
 "metadata": {
  "application/vnd.databricks.v1+notebook": {
   "dashboards": [],
   "environmentMetadata": null,
   "language": "python",
   "notebookMetadata": {
    "pythonIndentUnit": 2
   },
   "notebookName": "Assignment_3",
   "widgets": {}
  },
  "kernelspec": {
   "display_name": "Python 3 (ipykernel)",
   "language": "python",
   "name": "python3"
  },
  "language_info": {
   "codemirror_mode": {
    "name": "ipython",
    "version": 3
   },
   "file_extension": ".py",
   "mimetype": "text/x-python",
   "name": "python",
   "nbconvert_exporter": "python",
   "pygments_lexer": "ipython3",
   "version": "3.9.16"
  }
 },
 "nbformat": 4,
 "nbformat_minor": 0
}
